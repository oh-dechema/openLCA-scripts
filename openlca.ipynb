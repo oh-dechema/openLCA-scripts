{
 "metadata": {
  "language_info": {
   "codemirror_mode": {
    "name": "ipython",
    "version": 3
   },
   "file_extension": ".py",
   "mimetype": "text/x-python",
   "name": "python",
   "nbconvert_exporter": "python",
   "pygments_lexer": "ipython3",
   "version": "3.7.1"
  },
  "orig_nbformat": 2,
  "kernelspec": {
   "name": "python371jvsc74a57bd051826d968654ff9432ff58a3d7be99bccdc67c47bb7600db4e7b48bc7a82fca6",
   "display_name": "Python 3.7.1 64-bit ('base': conda)"
  }
 },
 "nbformat": 4,
 "nbformat_minor": 2,
 "cells": [
  {
   "cell_type": "code",
   "execution_count": 1,
   "metadata": {},
   "outputs": [
    {
     "output_type": "stream",
     "name": "stderr",
     "text": [
      "C:\\Users\\oliver.hurtig\\AppData\\Local\\Continuum\\miniconda3\\lib\\site-packages\\numpy\\_distributor_init.py:32: UserWarning: loaded more than 1 DLL from .libs:\nC:\\Users\\oliver.hurtig\\AppData\\Local\\Continuum\\miniconda3\\lib\\site-packages\\numpy\\.libs\\libopenblas.GK7GX5KEQ4F6UYO3P26ULGBQYHGQO7J4.gfortran-win_amd64.dll\nC:\\Users\\oliver.hurtig\\AppData\\Local\\Continuum\\miniconda3\\lib\\site-packages\\numpy\\.libs\\libopenblas.IPBC74C7KURV7CB2PKT5Z5FNR3SIBV4J.gfortran-win_amd64.dll\n  stacklevel=1)\n"
     ]
    }
   ],
   "source": [
    "import pandas as pd\n",
    "import json\n",
    "fileName = '2021-06-10 10.17'\n",
    "resPath = 'C:/Users/oliver.hurtig/Documents/Software/openLCA/UBA-results/'\n",
    "with open(resPath + fileName + '.json') as f:\n",
    "    data = json.load(f)\n",
    "with open(resPath + fileName + '_units.json') as f:\n",
    "    units = json.load(f)"
   ]
  },
  {
   "cell_type": "code",
   "execution_count": 2,
   "metadata": {},
   "outputs": [],
   "source": [
    "df = pd.DataFrame.from_dict({(system,co2,elec,impact): data[system][co2][elec]['categoryContrib'][impact]\n",
    "                            for system in data.keys() \n",
    "                            for co2 in data[system].keys()\n",
    "                            for elec in data[system][co2].keys()\n",
    "                            for impact in data[system][co2][elec]['categoryContrib'].keys()},\n",
    "                            orient='index')\n",
    "df.index = pd.MultiIndex.from_tuples(df.index, names=('System', 'CO2', 'Strom', 'Wirkungskategorie'))\n",
    "\n",
    "pd.set_option('display.max_rows', 80)\n",
    "pd.set_option('display.max_columns', None)\n",
    "pd.set_option('display.width', 1000)\n",
    "pd.set_option('display.colheader_justify', 'center')\n",
    "pd.set_option('display.precision', 2)\n",
    "df.to_excel(resPath + fileName + '-full.xlsx', merge_cells=False, sheet_name='Categories')\n",
    "\n",
    "df2 = pd.DataFrame.from_dict({(system,co2,elec,prcPath,impact): data[system][co2][elec]['processContrib'][prcPath][impact]\n",
    "                            for system in data.keys() \n",
    "                            for co2 in data[system].keys()\n",
    "                            for elec in data[system][co2].keys()\n",
    "                            for prcPath in data[system][co2][elec]['processContrib'].keys()\n",
    "                            for impact in data[system][co2][elec]['processContrib'][prcPath]},\n",
    "                            orient='index')\n",
    "df2.index = pd.MultiIndex.from_tuples(df2.index, names=('System', 'CO2', 'Strom', 'Prozess', 'Wirkungskategorie'))\n",
    "with pd.ExcelWriter(resPath + fileName + '-full.xlsx', engine=\"openpyxl\", mode='a') as writer:\n",
    "    df2.to_excel(writer, merge_cells=False, sheet_name='Processes')\n",
    "\n",
    "with pd.ExcelWriter(resPath + fileName + '.xlsx') as writer:\n",
    "    for cat, new_df in df.groupby(level=3):\n",
    "        new_df.to_excel(writer, merge_cells=False, sheet_name=cat[0:30])\n"
   ]
  },
  {
   "cell_type": "code",
   "execution_count": 175,
   "metadata": {},
   "outputs": [
    {
     "output_type": "stream",
     "name": "stderr",
     "text": [
      "ipykernel_launcher:11: FutureWarning:\n\ninplace is deprecated and will be removed in a future version.\n\n"
     ]
    },
    {
     "output_type": "display_data",
     "data": {
      "application/vnd.plotly.v1+json": {
       "config": {
        "plotlyServerURL": "https://plot.ly"
       },
       "data": [
        {
         "alignmentgroup": "True",
         "hovertemplate": "Prozessschritt=Anlage H2<br>value=%{x}<br>Szenario=%{y}<extra></extra>",
         "legendgroup": "Anlage H2",
         "marker": {
          "color": "rgb(136, 204, 238)"
         },
         "name": "Anlage H2",
         "offsetgroup": "Anlage H2",
         "orientation": "h",
         "showlegend": true,
         "textposition": "auto",
         "type": "bar",
         "x": [
          0.14311746291609848,
          0.14311746291609848,
          0.14311746291609848,
          0.14311746291609848,
          0.38140209737075287,
          0.3814020973707529,
          0.38140209737075287,
          0.3814020973707529,
          0,
          0,
          0,
          0
         ],
         "xaxis": "x",
         "y": [
          "PEM/DAC/DE2017",
          "PEM/DAC/EE2050",
          "PEM/AZ/DE2017",
          "PEM/AZ/EE2050",
          "PYR/DAC/DE2017",
          "PYR/DAC/EE2050",
          "PYR/AZ/DE2017",
          "PYR/AZ/EE2050",
          "SMR/DAC/DE2017",
          "SMR/DAC/EE2050",
          "SMR/AZ/DE2017",
          "SMR/AZ/EE2050"
         ],
         "yaxis": "y"
        },
        {
         "alignmentgroup": "True",
         "hovertemplate": "Prozessschritt=Anlage Produkt<br>value=%{x}<br>Szenario=%{y}<extra></extra>",
         "legendgroup": "Anlage Produkt",
         "marker": {
          "color": "rgb(204, 102, 119)"
         },
         "name": "Anlage Produkt",
         "offsetgroup": "Anlage Produkt",
         "orientation": "h",
         "showlegend": true,
         "textposition": "auto",
         "type": "bar",
         "x": [
          0.0002728946992904066,
          0.0002728946992904066,
          0.0002728946992904066,
          0.0002728946992904066,
          0.0002728946992904066,
          0.0002728946992904066,
          0.0002728946992904066,
          0.0002728946992904066,
          0,
          0,
          0,
          0
         ],
         "xaxis": "x",
         "y": [
          "PEM/DAC/DE2017",
          "PEM/DAC/EE2050",
          "PEM/AZ/DE2017",
          "PEM/AZ/EE2050",
          "PYR/DAC/DE2017",
          "PYR/DAC/EE2050",
          "PYR/AZ/DE2017",
          "PYR/AZ/EE2050",
          "SMR/DAC/DE2017",
          "SMR/DAC/EE2050",
          "SMR/AZ/DE2017",
          "SMR/AZ/EE2050"
         ],
         "yaxis": "y"
        },
        {
         "alignmentgroup": "True",
         "hovertemplate": "Prozessschritt=Anlage CO2<br>value=%{x}<br>Szenario=%{y}<extra></extra>",
         "legendgroup": "Anlage CO2",
         "marker": {
          "color": "rgb(221, 204, 119)"
         },
         "name": "Anlage CO2",
         "offsetgroup": "Anlage CO2",
         "orientation": "h",
         "showlegend": true,
         "textposition": "auto",
         "type": "bar",
         "x": [
          0.06618303458791225,
          0.06618303458791225,
          0,
          0,
          0.06618303458791225,
          0.06618303458791225,
          0.00015641893090871767,
          0.00015641893090871764,
          0,
          0,
          0,
          0
         ],
         "xaxis": "x",
         "y": [
          "PEM/DAC/DE2017",
          "PEM/DAC/EE2050",
          "PEM/AZ/DE2017",
          "PEM/AZ/EE2050",
          "PYR/DAC/DE2017",
          "PYR/DAC/EE2050",
          "PYR/AZ/DE2017",
          "PYR/AZ/EE2050",
          "SMR/DAC/DE2017",
          "SMR/DAC/EE2050",
          "SMR/AZ/DE2017",
          "SMR/AZ/EE2050"
         ],
         "yaxis": "y"
        },
        {
         "alignmentgroup": "True",
         "hovertemplate": "Prozessschritt=Bereitstellung fossile<br>value=%{x}<br>Szenario=%{y}<extra></extra>",
         "legendgroup": "Bereitstellung fossile",
         "marker": {
          "color": "rgb(17, 119, 51)"
         },
         "name": "Bereitstellung fossile",
         "offsetgroup": "Bereitstellung fossile",
         "orientation": "h",
         "showlegend": true,
         "textposition": "auto",
         "type": "bar",
         "x": [
          0,
          0,
          0,
          0,
          0,
          0,
          0,
          0,
          0,
          0,
          0,
          0
         ],
         "xaxis": "x",
         "y": [
          "PEM/DAC/DE2017",
          "PEM/DAC/EE2050",
          "PEM/AZ/DE2017",
          "PEM/AZ/EE2050",
          "PYR/DAC/DE2017",
          "PYR/DAC/EE2050",
          "PYR/AZ/DE2017",
          "PYR/AZ/EE2050",
          "SMR/DAC/DE2017",
          "SMR/DAC/EE2050",
          "SMR/AZ/DE2017",
          "SMR/AZ/EE2050"
         ],
         "yaxis": "y"
        },
        {
         "alignmentgroup": "True",
         "hovertemplate": "Prozessschritt=Bereitstellung H2<br>value=%{x}<br>Szenario=%{y}<extra></extra>",
         "legendgroup": "Bereitstellung H2",
         "marker": {
          "color": "rgb(51, 34, 136)"
         },
         "name": "Bereitstellung H2",
         "offsetgroup": "Bereitstellung H2",
         "orientation": "h",
         "showlegend": true,
         "textposition": "auto",
         "type": "bar",
         "x": [
          6.213146157349293,
          0.4605335936563648,
          6.213146157349293,
          0.4605335936563648,
          0.862711115443862,
          0.2987294915523987,
          0.862711115443862,
          0.2987294915523987,
          0,
          0,
          0,
          0
         ],
         "xaxis": "x",
         "y": [
          "PEM/DAC/DE2017",
          "PEM/DAC/EE2050",
          "PEM/AZ/DE2017",
          "PEM/AZ/EE2050",
          "PYR/DAC/DE2017",
          "PYR/DAC/EE2050",
          "PYR/AZ/DE2017",
          "PYR/AZ/EE2050",
          "SMR/DAC/DE2017",
          "SMR/DAC/EE2050",
          "SMR/AZ/DE2017",
          "SMR/AZ/EE2050"
         ],
         "yaxis": "y"
        },
        {
         "alignmentgroup": "True",
         "hovertemplate": "Prozessschritt=Bereitstellung Produkt<br>value=%{x}<br>Szenario=%{y}<extra></extra>",
         "legendgroup": "Bereitstellung Produkt",
         "marker": {
          "color": "rgb(170, 68, 153)"
         },
         "name": "Bereitstellung Produkt",
         "offsetgroup": "Bereitstellung Produkt",
         "orientation": "h",
         "showlegend": true,
         "textposition": "auto",
         "type": "bar",
         "x": [
          0.6764149346565804,
          0.05818004493215724,
          0.6764149346565791,
          0.058180044932157116,
          0.6764149346565801,
          0.058180044932157254,
          0.6764149346565806,
          0.05818004493215739,
          0.5256609729070059,
          0.4903332649227531,
          0.5256609729070059,
          0.4903332649227531
         ],
         "xaxis": "x",
         "y": [
          "PEM/DAC/DE2017",
          "PEM/DAC/EE2050",
          "PEM/AZ/DE2017",
          "PEM/AZ/EE2050",
          "PYR/DAC/DE2017",
          "PYR/DAC/EE2050",
          "PYR/AZ/DE2017",
          "PYR/AZ/EE2050",
          "SMR/DAC/DE2017",
          "SMR/DAC/EE2050",
          "SMR/AZ/DE2017",
          "SMR/AZ/EE2050"
         ],
         "yaxis": "y"
        },
        {
         "alignmentgroup": "True",
         "hovertemplate": "Prozessschritt=Bereitstellung CO2<br>value=%{x}<br>Szenario=%{y}<extra></extra>",
         "legendgroup": "Bereitstellung CO2",
         "marker": {
          "color": "rgb(68, 170, 153)"
         },
         "name": "Bereitstellung CO2",
         "offsetgroup": "Bereitstellung CO2",
         "orientation": "h",
         "showlegend": true,
         "textposition": "auto",
         "type": "bar",
         "x": [
          0.3767537845562136,
          0.02789266821171736,
          0.49747844666673485,
          0.036981773092000014,
          0.37675378455621306,
          0.027892668211717347,
          0.4974784466667346,
          0.03698177309200003,
          0,
          0,
          0,
          0
         ],
         "xaxis": "x",
         "y": [
          "PEM/DAC/DE2017",
          "PEM/DAC/EE2050",
          "PEM/AZ/DE2017",
          "PEM/AZ/EE2050",
          "PYR/DAC/DE2017",
          "PYR/DAC/EE2050",
          "PYR/AZ/DE2017",
          "PYR/AZ/EE2050",
          "SMR/DAC/DE2017",
          "SMR/DAC/EE2050",
          "SMR/AZ/DE2017",
          "SMR/AZ/EE2050"
         ],
         "yaxis": "y"
        }
       ],
       "layout": {
        "barmode": "relative",
        "legend": {
         "orientation": "h",
         "title": {
          "text": "Prozessschritt"
         },
         "tracegroupgap": 0,
         "x": -0.2,
         "y": -0.3
        },
        "margin": {
         "t": 60
        },
        "template": {
         "data": {
          "bar": [
           {
            "error_x": {
             "color": "#2a3f5f"
            },
            "error_y": {
             "color": "#2a3f5f"
            },
            "marker": {
             "line": {
              "color": "#E5ECF6",
              "width": 0.5
             }
            },
            "type": "bar"
           }
          ],
          "barpolar": [
           {
            "marker": {
             "line": {
              "color": "#E5ECF6",
              "width": 0.5
             }
            },
            "type": "barpolar"
           }
          ],
          "carpet": [
           {
            "aaxis": {
             "endlinecolor": "#2a3f5f",
             "gridcolor": "white",
             "linecolor": "white",
             "minorgridcolor": "white",
             "startlinecolor": "#2a3f5f"
            },
            "baxis": {
             "endlinecolor": "#2a3f5f",
             "gridcolor": "white",
             "linecolor": "white",
             "minorgridcolor": "white",
             "startlinecolor": "#2a3f5f"
            },
            "type": "carpet"
           }
          ],
          "choropleth": [
           {
            "colorbar": {
             "outlinewidth": 0,
             "ticks": ""
            },
            "type": "choropleth"
           }
          ],
          "contour": [
           {
            "colorbar": {
             "outlinewidth": 0,
             "ticks": ""
            },
            "colorscale": [
             [
              0,
              "#0d0887"
             ],
             [
              0.1111111111111111,
              "#46039f"
             ],
             [
              0.2222222222222222,
              "#7201a8"
             ],
             [
              0.3333333333333333,
              "#9c179e"
             ],
             [
              0.4444444444444444,
              "#bd3786"
             ],
             [
              0.5555555555555556,
              "#d8576b"
             ],
             [
              0.6666666666666666,
              "#ed7953"
             ],
             [
              0.7777777777777778,
              "#fb9f3a"
             ],
             [
              0.8888888888888888,
              "#fdca26"
             ],
             [
              1,
              "#f0f921"
             ]
            ],
            "type": "contour"
           }
          ],
          "contourcarpet": [
           {
            "colorbar": {
             "outlinewidth": 0,
             "ticks": ""
            },
            "type": "contourcarpet"
           }
          ],
          "heatmap": [
           {
            "colorbar": {
             "outlinewidth": 0,
             "ticks": ""
            },
            "colorscale": [
             [
              0,
              "#0d0887"
             ],
             [
              0.1111111111111111,
              "#46039f"
             ],
             [
              0.2222222222222222,
              "#7201a8"
             ],
             [
              0.3333333333333333,
              "#9c179e"
             ],
             [
              0.4444444444444444,
              "#bd3786"
             ],
             [
              0.5555555555555556,
              "#d8576b"
             ],
             [
              0.6666666666666666,
              "#ed7953"
             ],
             [
              0.7777777777777778,
              "#fb9f3a"
             ],
             [
              0.8888888888888888,
              "#fdca26"
             ],
             [
              1,
              "#f0f921"
             ]
            ],
            "type": "heatmap"
           }
          ],
          "heatmapgl": [
           {
            "colorbar": {
             "outlinewidth": 0,
             "ticks": ""
            },
            "colorscale": [
             [
              0,
              "#0d0887"
             ],
             [
              0.1111111111111111,
              "#46039f"
             ],
             [
              0.2222222222222222,
              "#7201a8"
             ],
             [
              0.3333333333333333,
              "#9c179e"
             ],
             [
              0.4444444444444444,
              "#bd3786"
             ],
             [
              0.5555555555555556,
              "#d8576b"
             ],
             [
              0.6666666666666666,
              "#ed7953"
             ],
             [
              0.7777777777777778,
              "#fb9f3a"
             ],
             [
              0.8888888888888888,
              "#fdca26"
             ],
             [
              1,
              "#f0f921"
             ]
            ],
            "type": "heatmapgl"
           }
          ],
          "histogram": [
           {
            "marker": {
             "colorbar": {
              "outlinewidth": 0,
              "ticks": ""
             }
            },
            "type": "histogram"
           }
          ],
          "histogram2d": [
           {
            "colorbar": {
             "outlinewidth": 0,
             "ticks": ""
            },
            "colorscale": [
             [
              0,
              "#0d0887"
             ],
             [
              0.1111111111111111,
              "#46039f"
             ],
             [
              0.2222222222222222,
              "#7201a8"
             ],
             [
              0.3333333333333333,
              "#9c179e"
             ],
             [
              0.4444444444444444,
              "#bd3786"
             ],
             [
              0.5555555555555556,
              "#d8576b"
             ],
             [
              0.6666666666666666,
              "#ed7953"
             ],
             [
              0.7777777777777778,
              "#fb9f3a"
             ],
             [
              0.8888888888888888,
              "#fdca26"
             ],
             [
              1,
              "#f0f921"
             ]
            ],
            "type": "histogram2d"
           }
          ],
          "histogram2dcontour": [
           {
            "colorbar": {
             "outlinewidth": 0,
             "ticks": ""
            },
            "colorscale": [
             [
              0,
              "#0d0887"
             ],
             [
              0.1111111111111111,
              "#46039f"
             ],
             [
              0.2222222222222222,
              "#7201a8"
             ],
             [
              0.3333333333333333,
              "#9c179e"
             ],
             [
              0.4444444444444444,
              "#bd3786"
             ],
             [
              0.5555555555555556,
              "#d8576b"
             ],
             [
              0.6666666666666666,
              "#ed7953"
             ],
             [
              0.7777777777777778,
              "#fb9f3a"
             ],
             [
              0.8888888888888888,
              "#fdca26"
             ],
             [
              1,
              "#f0f921"
             ]
            ],
            "type": "histogram2dcontour"
           }
          ],
          "mesh3d": [
           {
            "colorbar": {
             "outlinewidth": 0,
             "ticks": ""
            },
            "type": "mesh3d"
           }
          ],
          "parcoords": [
           {
            "line": {
             "colorbar": {
              "outlinewidth": 0,
              "ticks": ""
             }
            },
            "type": "parcoords"
           }
          ],
          "pie": [
           {
            "automargin": true,
            "type": "pie"
           }
          ],
          "scatter": [
           {
            "marker": {
             "colorbar": {
              "outlinewidth": 0,
              "ticks": ""
             }
            },
            "type": "scatter"
           }
          ],
          "scatter3d": [
           {
            "line": {
             "colorbar": {
              "outlinewidth": 0,
              "ticks": ""
             }
            },
            "marker": {
             "colorbar": {
              "outlinewidth": 0,
              "ticks": ""
             }
            },
            "type": "scatter3d"
           }
          ],
          "scattercarpet": [
           {
            "marker": {
             "colorbar": {
              "outlinewidth": 0,
              "ticks": ""
             }
            },
            "type": "scattercarpet"
           }
          ],
          "scattergeo": [
           {
            "marker": {
             "colorbar": {
              "outlinewidth": 0,
              "ticks": ""
             }
            },
            "type": "scattergeo"
           }
          ],
          "scattergl": [
           {
            "marker": {
             "colorbar": {
              "outlinewidth": 0,
              "ticks": ""
             }
            },
            "type": "scattergl"
           }
          ],
          "scattermapbox": [
           {
            "marker": {
             "colorbar": {
              "outlinewidth": 0,
              "ticks": ""
             }
            },
            "type": "scattermapbox"
           }
          ],
          "scatterpolar": [
           {
            "marker": {
             "colorbar": {
              "outlinewidth": 0,
              "ticks": ""
             }
            },
            "type": "scatterpolar"
           }
          ],
          "scatterpolargl": [
           {
            "marker": {
             "colorbar": {
              "outlinewidth": 0,
              "ticks": ""
             }
            },
            "type": "scatterpolargl"
           }
          ],
          "scatterternary": [
           {
            "marker": {
             "colorbar": {
              "outlinewidth": 0,
              "ticks": ""
             }
            },
            "type": "scatterternary"
           }
          ],
          "surface": [
           {
            "colorbar": {
             "outlinewidth": 0,
             "ticks": ""
            },
            "colorscale": [
             [
              0,
              "#0d0887"
             ],
             [
              0.1111111111111111,
              "#46039f"
             ],
             [
              0.2222222222222222,
              "#7201a8"
             ],
             [
              0.3333333333333333,
              "#9c179e"
             ],
             [
              0.4444444444444444,
              "#bd3786"
             ],
             [
              0.5555555555555556,
              "#d8576b"
             ],
             [
              0.6666666666666666,
              "#ed7953"
             ],
             [
              0.7777777777777778,
              "#fb9f3a"
             ],
             [
              0.8888888888888888,
              "#fdca26"
             ],
             [
              1,
              "#f0f921"
             ]
            ],
            "type": "surface"
           }
          ],
          "table": [
           {
            "cells": {
             "fill": {
              "color": "#EBF0F8"
             },
             "line": {
              "color": "white"
             }
            },
            "header": {
             "fill": {
              "color": "#C8D4E3"
             },
             "line": {
              "color": "white"
             }
            },
            "type": "table"
           }
          ]
         },
         "layout": {
          "annotationdefaults": {
           "arrowcolor": "#2a3f5f",
           "arrowhead": 0,
           "arrowwidth": 1
          },
          "autotypenumbers": "strict",
          "coloraxis": {
           "colorbar": {
            "outlinewidth": 0,
            "ticks": ""
           }
          },
          "colorscale": {
           "diverging": [
            [
             0,
             "#8e0152"
            ],
            [
             0.1,
             "#c51b7d"
            ],
            [
             0.2,
             "#de77ae"
            ],
            [
             0.3,
             "#f1b6da"
            ],
            [
             0.4,
             "#fde0ef"
            ],
            [
             0.5,
             "#f7f7f7"
            ],
            [
             0.6,
             "#e6f5d0"
            ],
            [
             0.7,
             "#b8e186"
            ],
            [
             0.8,
             "#7fbc41"
            ],
            [
             0.9,
             "#4d9221"
            ],
            [
             1,
             "#276419"
            ]
           ],
           "sequential": [
            [
             0,
             "#0d0887"
            ],
            [
             0.1111111111111111,
             "#46039f"
            ],
            [
             0.2222222222222222,
             "#7201a8"
            ],
            [
             0.3333333333333333,
             "#9c179e"
            ],
            [
             0.4444444444444444,
             "#bd3786"
            ],
            [
             0.5555555555555556,
             "#d8576b"
            ],
            [
             0.6666666666666666,
             "#ed7953"
            ],
            [
             0.7777777777777778,
             "#fb9f3a"
            ],
            [
             0.8888888888888888,
             "#fdca26"
            ],
            [
             1,
             "#f0f921"
            ]
           ],
           "sequentialminus": [
            [
             0,
             "#0d0887"
            ],
            [
             0.1111111111111111,
             "#46039f"
            ],
            [
             0.2222222222222222,
             "#7201a8"
            ],
            [
             0.3333333333333333,
             "#9c179e"
            ],
            [
             0.4444444444444444,
             "#bd3786"
            ],
            [
             0.5555555555555556,
             "#d8576b"
            ],
            [
             0.6666666666666666,
             "#ed7953"
            ],
            [
             0.7777777777777778,
             "#fb9f3a"
            ],
            [
             0.8888888888888888,
             "#fdca26"
            ],
            [
             1,
             "#f0f921"
            ]
           ]
          },
          "colorway": [
           "#636efa",
           "#EF553B",
           "#00cc96",
           "#ab63fa",
           "#FFA15A",
           "#19d3f3",
           "#FF6692",
           "#B6E880",
           "#FF97FF",
           "#FECB52"
          ],
          "font": {
           "color": "#2a3f5f"
          },
          "geo": {
           "bgcolor": "white",
           "lakecolor": "white",
           "landcolor": "#E5ECF6",
           "showlakes": true,
           "showland": true,
           "subunitcolor": "white"
          },
          "hoverlabel": {
           "align": "left"
          },
          "hovermode": "closest",
          "mapbox": {
           "style": "light"
          },
          "paper_bgcolor": "white",
          "plot_bgcolor": "#E5ECF6",
          "polar": {
           "angularaxis": {
            "gridcolor": "white",
            "linecolor": "white",
            "ticks": ""
           },
           "bgcolor": "#E5ECF6",
           "radialaxis": {
            "gridcolor": "white",
            "linecolor": "white",
            "ticks": ""
           }
          },
          "scene": {
           "xaxis": {
            "backgroundcolor": "#E5ECF6",
            "gridcolor": "white",
            "gridwidth": 2,
            "linecolor": "white",
            "showbackground": true,
            "ticks": "",
            "zerolinecolor": "white"
           },
           "yaxis": {
            "backgroundcolor": "#E5ECF6",
            "gridcolor": "white",
            "gridwidth": 2,
            "linecolor": "white",
            "showbackground": true,
            "ticks": "",
            "zerolinecolor": "white"
           },
           "zaxis": {
            "backgroundcolor": "#E5ECF6",
            "gridcolor": "white",
            "gridwidth": 2,
            "linecolor": "white",
            "showbackground": true,
            "ticks": "",
            "zerolinecolor": "white"
           }
          },
          "shapedefaults": {
           "line": {
            "color": "#2a3f5f"
           }
          },
          "ternary": {
           "aaxis": {
            "gridcolor": "white",
            "linecolor": "white",
            "ticks": ""
           },
           "baxis": {
            "gridcolor": "white",
            "linecolor": "white",
            "ticks": ""
           },
           "bgcolor": "#E5ECF6",
           "caxis": {
            "gridcolor": "white",
            "linecolor": "white",
            "ticks": ""
           }
          },
          "title": {
           "x": 0.05
          },
          "xaxis": {
           "automargin": true,
           "gridcolor": "white",
           "linecolor": "white",
           "ticks": "",
           "title": {
            "standoff": 15
           },
           "zerolinecolor": "white",
           "zerolinewidth": 2
          },
          "yaxis": {
           "automargin": true,
           "gridcolor": "white",
           "linecolor": "white",
           "ticks": "",
           "title": {
            "standoff": 15
           },
           "zerolinecolor": "white",
           "zerolinewidth": 2
          }
         }
        },
        "xaxis": {
         "anchor": "y",
         "domain": [
          0,
          1
         ],
         "title": {
          "text": "IPCC GWP 100a in kg CO2 eq / kg Produkt"
         }
        },
        "yaxis": {
         "anchor": "x",
         "domain": [
          0,
          1
         ],
         "title": {
          "text": "Szenario"
         }
        }
       }
      }
     },
     "metadata": {}
    }
   ],
   "source": [
    "#import matplotlib.pyplot as plt\n",
    "import plotly.express as px\n",
    "prod_systems = {\n",
    "    'Syngas, Steam Methane Reforming': 'SMR',\n",
    "    'synthesis gas (2:1), mixing of CO and H2 from PEM': 'PEM',\n",
    "    'synthesis gas (2:1), mixing of CO and H2 from PYR': 'PYR'\n",
    "}\n",
    "def map_level(df, dct, level=0):\n",
    "    index = df.index\n",
    "    index.set_levels([[dct.get(item, item) for item in names] if i==level else names\n",
    "                      for i, names in enumerate(index.levels)], inplace=True)\n",
    "\n",
    "for cat, new_df in df.groupby(level=3):\n",
    "    if cat == 'IPCC GWP 100a':\n",
    "        map_level(new_df, prod_systems, level=0)\n",
    "        ind = new_df.reset_index(level=3, drop=True).index.map('/'.join)\n",
    "        new_df.index = ind\n",
    "        new_df.index.name = 'Szenario'\n",
    "        new_df.columns.name = 'Prozessschritt'\n",
    "        fig = px.bar(new_df, orientation='h', color_discrete_sequence=px.colors.qualitative.Safe)\n",
    "        fig.update_xaxes(title_text=cat + ' in ' + units[cat] + ' / kg Produkt')\n",
    "        fig.update_layout(legend=dict(orientation='h', x=-0.2, y=-0.3))\n",
    "\n",
    "fig.show()"
   ]
  },
  {
   "cell_type": "code",
   "execution_count": null,
   "metadata": {},
   "outputs": [],
   "source": [
    "!pip install plotly"
   ]
  },
  {
   "cell_type": "code",
   "execution_count": 79,
   "metadata": {
    "tags": [
     "outputPrepend"
    ]
   },
   "outputs": [
    {
     "output_type": "stream",
     "name": "stdout",
     "text": [
      "-KEA-Renewable, wind, solar, geothe    0.18        9.48e-05      6.97e-03              0                   4.34                 4.70                  2.65       \n",
      "                                                  AZ  DE2017 z-KEA-Renewable, wind, solar, geothe    0.18        9.48e-05      2.03e-05              0                   1.38                 1.46                  1.09       \n",
      "                                                      EE2050 z-KEA-Renewable, wind, solar, geothe    0.18        9.48e-05      2.03e-05              0                   4.34                 4.70                  3.50       \n",
      "Syngas, Steam Methane Reforming                   DAC DE2017 z-KEA-Renewable, wind, solar, geothe    0.00        0.00e+00      0.00e+00              0                   0.00                 0.11                  0.00       \n",
      "                                                      EE2050 z-KEA-Renewable, wind, solar, geothe    0.00        0.00e+00      0.00e+00              0                   0.00                 0.29                  0.00       \n",
      "                                                  AZ  DE2017 z-KEA-Renewable, wind, solar, geothe    0.00        0.00e+00      0.00e+00              0                   0.00                 0.11                  0.00       \n",
      "                                                      EE2050 z-KEA-Renewable, wind, solar, geothe    0.00        0.00e+00      0.00e+00              0                   0.00                 0.29                  0.00       \n",
      "                                                                                Anlage H2  Anlage Produkt  Anlage CO2  Bereitstellung fossile  Bereitstellung H2  Bereitstellung Produkt  Bereitstellung CO2\n",
      "System                                            CO2 Strom  Wirkungskategorie                                                                                                                              \n",
      "synthesis gas (2:1), mixing of CO and H2 from PEM DAC DE2017 z-carbon dioxide      0.0           0.0           0.0                0                0.00e+00              2.22e-16                1.38       \n",
      "                                                      EE2050 z-carbon dioxide      0.0           0.0           0.0                0                0.00e+00              2.22e-16                1.38       \n",
      "                                                  AZ  DE2017 z-carbon dioxide      0.0           0.0           0.0                0                0.00e+00              0.00e+00                0.00       \n",
      "                                                      EE2050 z-carbon dioxide      0.0           0.0           0.0                0                0.00e+00              0.00e+00                0.00       \n",
      "synthesis gas (2:1), mixing of CO and H2 from PYR DAC DE2017 z-carbon dioxide      0.0           0.0           0.0                0               -2.61e-16              0.00e+00                1.38       \n",
      "                                                      EE2050 z-carbon dioxide      0.0           0.0           0.0                0                0.00e+00              2.22e-16                1.38       \n",
      "                                                  AZ  DE2017 z-carbon dioxide      0.0           0.0           0.0                0                0.00e+00              0.00e+00                0.00       \n",
      "                                                      EE2050 z-carbon dioxide      0.0           0.0           0.0                0                0.00e+00              0.00e+00                0.00       \n",
      "Syngas, Steam Methane Reforming                   DAC DE2017 z-carbon dioxide      0.0           0.0           0.0                0                0.00e+00              0.00e+00                0.00       \n",
      "                                                      EE2050 z-carbon dioxide      0.0           0.0           0.0                0                0.00e+00              0.00e+00                0.00       \n",
      "                                                  AZ  DE2017 z-carbon dioxide      0.0           0.0           0.0                0                0.00e+00              0.00e+00                0.00       \n",
      "                                                      EE2050 z-carbon dioxide      0.0           0.0           0.0                0                0.00e+00              0.00e+00                0.00       \n",
      "                                                                                Anlage H2  Anlage Produkt  Anlage CO2  Bereitstellung fossile  Bereitstellung H2  Bereitstellung Produkt  Bereitstellung CO2\n",
      "System                                            CO2 Strom  Wirkungskategorie                                                                                                                              \n",
      "synthesis gas (2:1), mixing of CO and H2 from PEM DAC DE2017 z-electricity         0.0           0.0           0.0                0                  41.03                 4.41                  2.49       \n",
      "                                                      EE2050 z-electricity         0.0           0.0           0.0                0                  41.03                 4.41                  2.49       \n",
      "                                                  AZ  DE2017 z-electricity         0.0           0.0           0.0                0                  41.03                 4.41                  3.28       \n",
      "                                                      EE2050 z-electricity         0.0           0.0           0.0                0                  41.03                 4.41                  3.28       \n",
      "synthesis gas (2:1), mixing of CO and H2 from PYR DAC DE2017 z-electricity         0.0           0.0           0.0                0                   4.02                 4.41                  2.49       \n",
      "                                                      EE2050 z-electricity         0.0           0.0           0.0                0                   4.02                 4.41                  2.49       \n",
      "                                                  AZ  DE2017 z-electricity         0.0           0.0           0.0                0                   4.02                 4.41                  3.28       \n",
      "                                                      EE2050 z-electricity         0.0           0.0           0.0                0                   4.02                 4.41                  3.28       \n",
      "Syngas, Steam Methane Reforming                   DAC DE2017 z-electricity         0.0           0.0           0.0                0                   0.00                 0.25                  0.00       \n",
      "                                                      EE2050 z-electricity         0.0           0.0           0.0                0                   0.00                 0.25                  0.00       \n",
      "                                                  AZ  DE2017 z-electricity         0.0           0.0           0.0                0                   0.00                 0.25                  0.00       \n",
      "                                                      EE2050 z-electricity         0.0           0.0           0.0                0                   0.00                 0.25                  0.00       \n",
      "                                                                                                         Anlage H2  Anlage Produkt  Anlage CO2  Bereitstellung fossile  Bereitstellung H2  Bereitstellung Produkt  Bereitstellung CO2\n",
      "System                                            CO2 Strom  Wirkungskategorie                                                                                                                                                       \n",
      "synthesis gas (2:1), mixing of CO and H2 from PEM DAC DE2017 z-land-agricultural land occupation - ALOP  5.73e-03      7.66e-05      5.46e-03              0                  0.39                4.15e-02              2.34e-02     \n",
      "                                                      EE2050 z-land-agricultural land occupation - ALOP  5.73e-03      7.66e-05      5.46e-03              0                  0.06                6.62e-03              3.73e-03     \n",
      "                                                  AZ  DE2017 z-land-agricultural land occupation - ALOP  5.73e-03      7.66e-05      0.00e+00              0                  0.39                4.15e-02              3.09e-02     \n",
      "                                                      EE2050 z-land-agricultural land occupation - ALOP  5.73e-03      7.66e-05      0.00e+00              0                  0.06                6.62e-03              4.93e-03     \n",
      "synthesis gas (2:1), mixing of CO and H2 from PYR DAC DE2017 z-land-agricultural land occupation - ALOP  4.41e-02      7.66e-05      5.46e-03              0                  0.15                4.15e-02              2.34e-02     \n",
      "                                                      EE2050 z-land-agricultural land occupation - ALOP  4.41e-02      7.66e-05      5.46e-03              0                  0.12                6.62e-03              3.73e-03     \n",
      "                                                  AZ  DE2017 z-land-agricultural land occupation - ALOP  4.41e-02      7.66e-05      9.71e-06              0                  0.15                4.15e-02              3.09e-02     \n",
      "                                                      EE2050 z-land-agricultural land occupation - ALOP  4.41e-02      7.66e-05      9.71e-06              0                  0.12                6.62e-03              4.93e-03     \n",
      "Syngas, Steam Methane Reforming                   DAC DE2017 z-land-agricultural land occupation - ALOP  0.00e+00      0.00e+00      0.00e+00              0                  0.00                2.54e-02              0.00e+00     \n",
      "                                                      EE2050 z-land-agricultural land occupation - ALOP  0.00e+00      0.00e+00      0.00e+00              0                  0.00                2.34e-02              0.00e+00     \n",
      "                                                  AZ  DE2017 z-land-agricultural land occupation - ALOP  0.00e+00      0.00e+00      0.00e+00              0                  0.00                2.54e-02              0.00e+00     \n",
      "                                                      EE2050 z-land-agricultural land occupation - ALOP  0.00e+00      0.00e+00      0.00e+00              0                  0.00                2.34e-02              0.00e+00     \n",
      "                                                                                                        Anlage H2  Anlage Produkt  Anlage CO2  Bereitstellung fossile  Bereitstellung H2  Bereitstellung Produkt  Bereitstellung CO2\n",
      "System                                            CO2 Strom  Wirkungskategorie                                                                                                                                                      \n",
      "synthesis gas (2:1), mixing of CO and H2 from PEM DAC DE2017 z-land-natural land transformation - NLTP -2.48e-05     -1.14e-07     -8.30e-06              0               -2.66e-04             -2.85e-05             -1.61e-05     \n",
      "                                                      EE2050 z-land-natural land transformation - NLTP -2.48e-05     -1.14e-07     -8.30e-06              0               -6.79e-05             -7.30e-06             -4.12e-06     \n",
      "                                                  AZ  DE2017 z-land-natural land transformation - NLTP -2.48e-05     -1.14e-07      0.00e+00              0               -2.66e-04             -2.85e-05             -2.13e-05     \n",
      "                                                      EE2050 z-land-natural land transformation - NLTP -2.48e-05     -1.14e-07      0.00e+00              0               -6.79e-05             -7.30e-06             -5.44e-06     \n",
      "synthesis gas (2:1), mixing of CO and H2 from PYR DAC DE2017 z-land-natural land transformation - NLTP -1.17e-04     -1.14e-07     -8.30e-06              0               -3.79e-05             -2.85e-05             -1.61e-05     \n",
      "                                                      EE2050 z-land-natural land transformation - NLTP -1.17e-04     -1.14e-07     -8.30e-06              0               -1.85e-05             -7.30e-06             -4.12e-06     \n",
      "                                                  AZ  DE2017 z-land-natural land transformation - NLTP -1.17e-04     -1.14e-07     -1.86e-08              0               -3.79e-05             -2.85e-05             -2.13e-05     \n",
      "                                                      EE2050 z-land-natural land transformation - NLTP -1.17e-04     -1.14e-07     -1.86e-08              0               -1.85e-05             -7.30e-06             -5.44e-06     \n",
      "Syngas, Steam Methane Reforming                   DAC DE2017 z-land-natural land transformation - NLTP  0.00e+00      0.00e+00      0.00e+00              0                0.00e+00             -3.47e-05              0.00e+00     \n",
      "                                                      EE2050 z-land-natural land transformation - NLTP  0.00e+00      0.00e+00      0.00e+00              0                0.00e+00             -3.35e-05              0.00e+00     \n",
      "                                                  AZ  DE2017 z-land-natural land transformation - NLTP  0.00e+00      0.00e+00      0.00e+00              0                0.00e+00             -3.47e-05              0.00e+00     \n",
      "                                                      EE2050 z-land-natural land transformation - NLTP  0.00e+00      0.00e+00      0.00e+00              0                0.00e+00             -3.35e-05              0.00e+00     \n",
      "                                                                                                  Anlage H2  Anlage Produkt  Anlage CO2  Bereitstellung fossile  Bereitstellung H2  Bereitstellung Produkt  Bereitstellung CO2\n",
      "System                                            CO2 Strom  Wirkungskategorie                                                                                                                                                \n",
      "synthesis gas (2:1), mixing of CO and H2 from PEM DAC DE2017 z-land-urban land occupation - ULOP  5.12e-03      2.16e-04      1.65e-02              0                  1.33                  0.14                  0.08       \n",
      "                                                      EE2050 z-land-urban land occupation - ULOP  5.12e-03      2.16e-04      1.65e-02              0                  0.24                  0.03                  0.01       \n",
      "                                                  AZ  DE2017 z-land-urban land occupation - ULOP  5.12e-03      2.16e-04      0.00e+00              0                  1.33                  0.14                  0.11       \n",
      "                                                      EE2050 z-land-urban land occupation - ULOP  5.12e-03      2.16e-04      0.00e+00              0                  0.24                  0.03                  0.02       \n",
      "synthesis gas (2:1), mixing of CO and H2 from PYR DAC DE2017 z-land-urban land occupation - ULOP  7.25e-02      2.16e-04      1.65e-02              0                  0.36                  0.14                  0.08       \n",
      "                                                      EE2050 z-land-urban land occupation - ULOP  7.25e-02      2.16e-04      1.65e-02              0                  0.25                  0.03                  0.01       \n",
      "                                                  AZ  DE2017 z-land-urban land occupation - ULOP  7.25e-02      2.16e-04      8.86e-06              0                  0.36                  0.14                  0.11       \n",
      "                                                      EE2050 z-land-urban land occupation - ULOP  7.25e-02      2.16e-04      8.86e-06              0                  0.25                  0.03                  0.02       \n",
      "Syngas, Steam Methane Reforming                   DAC DE2017 z-land-urban land occupation - ULOP  0.00e+00      0.00e+00      0.00e+00              0                  0.00                  0.05                  0.00       \n",
      "                                                      EE2050 z-land-urban land occupation - ULOP  0.00e+00      0.00e+00      0.00e+00              0                  0.00                  0.04                  0.00       \n",
      "                                                  AZ  DE2017 z-land-urban land occupation - ULOP  0.00e+00      0.00e+00      0.00e+00              0                  0.00                  0.05                  0.00       \n",
      "                                                      EE2050 z-land-urban land occupation - ULOP  0.00e+00      0.00e+00      0.00e+00              0                  0.00                  0.04                  0.00       \n",
      "                                                                                                        Anlage H2  Anlage Produkt  Anlage CO2  Bereitstellung fossile  Bereitstellung H2  Bereitstellung Produkt  Bereitstellung CO2\n",
      "System                                            CO2 Strom  Wirkungskategorie                                                                                                                                                      \n",
      "synthesis gas (2:1), mixing of CO and H2 from PEM DAC DE2017 z-water - resource - water (selected LCI)  1.97e-03      4.58e-06      5.60e-04              0                  0.08                7.87e-03              4.44e-03     \n",
      "                                                      EE2050 z-water - resource - water (selected LCI)  1.97e-03      4.58e-06      5.60e-04              0                  0.01                1.26e-03              7.09e-04     \n",
      "                                                  AZ  DE2017 z-water - resource - water (selected LCI)  1.97e-03      4.58e-06      0.00e+00              0                  0.08                7.87e-03              5.87e-03     \n",
      "                                                      EE2050 z-water - resource - water (selected LCI)  1.97e-03      4.58e-06      0.00e+00              0                  0.01                1.26e-03              9.36e-04     \n",
      "synthesis gas (2:1), mixing of CO and H2 from PYR DAC DE2017 z-water - resource - water (selected LCI)  7.07e-03      4.58e-06      5.60e-04              0                  0.13                7.87e-03              4.44e-03     \n",
      "                                                      EE2050 z-water - resource - water (selected LCI)  7.07e-03      4.58e-06      5.60e-04              0                  0.13                1.26e-03              7.09e-04     \n",
      "                                                  AZ  DE2017 z-water - resource - water (selected LCI)  7.07e-03      4.58e-06      7.69e-07              0                  0.13                7.87e-03              5.87e-03     \n",
      "                                                      EE2050 z-water - resource - water (selected LCI)  7.07e-03      4.58e-06      7.69e-07              0                  0.13                1.26e-03              9.36e-04     \n",
      "Syngas, Steam Methane Reforming                   DAC DE2017 z-water - resource - water (selected LCI)  0.00e+00      0.00e+00      0.00e+00              0                  0.00                2.95e-03              0.00e+00     \n",
      "                                                      EE2050 z-water - resource - water (selected LCI)  0.00e+00      0.00e+00      0.00e+00              0                  0.00                2.57e-03              0.00e+00     \n",
      "                                                  AZ  DE2017 z-water - resource - water (selected LCI)  0.00e+00      0.00e+00      0.00e+00              0                  0.00                2.95e-03              0.00e+00     \n",
      "                                                      EE2050 z-water - resource - water (selected LCI)  0.00e+00      0.00e+00      0.00e+00              0                  0.00                2.57e-03              0.00e+00     \n"
     ]
    }
   ],
   "source": [
    "#df.loc[(slice(None), slice(None), slice(None), 'IPCC GWP 100a')]"
   ]
  },
  {
   "cell_type": "code",
   "execution_count": 30,
   "metadata": {},
   "outputs": [
    {
     "output_type": "error",
     "ename": "KeyError",
     "evalue": "'Prozess'",
     "traceback": [
      "\u001b[1;31m---------------------------------------------------------------------------\u001b[0m",
      "\u001b[1;31mKeyError\u001b[0m                                  Traceback (most recent call last)",
      "\u001b[1;32m~\\AppData\\Local\\Continuum\\miniconda3\\lib\\site-packages\\pandas\\core\\indexes\\base.py\u001b[0m in \u001b[0;36mget_loc\u001b[1;34m(self, key, method, tolerance)\u001b[0m\n\u001b[0;32m   3079\u001b[0m             \u001b[1;32mtry\u001b[0m\u001b[1;33m:\u001b[0m\u001b[1;33m\u001b[0m\u001b[1;33m\u001b[0m\u001b[0m\n\u001b[1;32m-> 3080\u001b[1;33m                 \u001b[1;32mreturn\u001b[0m \u001b[0mself\u001b[0m\u001b[1;33m.\u001b[0m\u001b[0m_engine\u001b[0m\u001b[1;33m.\u001b[0m\u001b[0mget_loc\u001b[0m\u001b[1;33m(\u001b[0m\u001b[0mcasted_key\u001b[0m\u001b[1;33m)\u001b[0m\u001b[1;33m\u001b[0m\u001b[1;33m\u001b[0m\u001b[0m\n\u001b[0m\u001b[0;32m   3081\u001b[0m             \u001b[1;32mexcept\u001b[0m \u001b[0mKeyError\u001b[0m \u001b[1;32mas\u001b[0m \u001b[0merr\u001b[0m\u001b[1;33m:\u001b[0m\u001b[1;33m\u001b[0m\u001b[1;33m\u001b[0m\u001b[0m\n",
      "\u001b[1;32mpandas\\_libs\\index.pyx\u001b[0m in \u001b[0;36mpandas._libs.index.IndexEngine.get_loc\u001b[1;34m()\u001b[0m\n",
      "\u001b[1;32mpandas\\_libs\\index.pyx\u001b[0m in \u001b[0;36mpandas._libs.index.IndexEngine.get_loc\u001b[1;34m()\u001b[0m\n",
      "\u001b[1;32mpandas\\_libs\\hashtable_class_helper.pxi\u001b[0m in \u001b[0;36mpandas._libs.hashtable.PyObjectHashTable.get_item\u001b[1;34m()\u001b[0m\n",
      "\u001b[1;32mpandas\\_libs\\hashtable_class_helper.pxi\u001b[0m in \u001b[0;36mpandas._libs.hashtable.PyObjectHashTable.get_item\u001b[1;34m()\u001b[0m\n",
      "\u001b[1;31mKeyError\u001b[0m: 'Prozess'",
      "\nThe above exception was the direct cause of the following exception:\n",
      "\u001b[1;31mKeyError\u001b[0m                                  Traceback (most recent call last)",
      "\u001b[1;32m<ipython-input-30-940b811190cb>\u001b[0m in \u001b[0;36m<module>\u001b[1;34m\u001b[0m\n\u001b[1;32m----> 1\u001b[1;33m \u001b[0mdf\u001b[0m\u001b[1;33m[\u001b[0m\u001b[0mdf\u001b[0m\u001b[1;33m[\u001b[0m\u001b[1;34m'Prozess'\u001b[0m\u001b[1;33m]\u001b[0m\u001b[1;33m.\u001b[0m\u001b[0mendsWith\u001b[0m\u001b[1;33m(\u001b[0m\u001b[1;34m'hydrogen, from electrolysis - EU-25'\u001b[0m\u001b[1;33m)\u001b[0m\u001b[1;33m]\u001b[0m\u001b[1;33m\u001b[0m\u001b[1;33m\u001b[0m\u001b[0m\n\u001b[0m",
      "\u001b[1;32m~\\AppData\\Local\\Continuum\\miniconda3\\lib\\site-packages\\pandas\\core\\frame.py\u001b[0m in \u001b[0;36m__getitem__\u001b[1;34m(self, key)\u001b[0m\n\u001b[0;32m   3022\u001b[0m             \u001b[1;32mif\u001b[0m \u001b[0mself\u001b[0m\u001b[1;33m.\u001b[0m\u001b[0mcolumns\u001b[0m\u001b[1;33m.\u001b[0m\u001b[0mnlevels\u001b[0m \u001b[1;33m>\u001b[0m \u001b[1;36m1\u001b[0m\u001b[1;33m:\u001b[0m\u001b[1;33m\u001b[0m\u001b[1;33m\u001b[0m\u001b[0m\n\u001b[0;32m   3023\u001b[0m                 \u001b[1;32mreturn\u001b[0m \u001b[0mself\u001b[0m\u001b[1;33m.\u001b[0m\u001b[0m_getitem_multilevel\u001b[0m\u001b[1;33m(\u001b[0m\u001b[0mkey\u001b[0m\u001b[1;33m)\u001b[0m\u001b[1;33m\u001b[0m\u001b[1;33m\u001b[0m\u001b[0m\n\u001b[1;32m-> 3024\u001b[1;33m             \u001b[0mindexer\u001b[0m \u001b[1;33m=\u001b[0m \u001b[0mself\u001b[0m\u001b[1;33m.\u001b[0m\u001b[0mcolumns\u001b[0m\u001b[1;33m.\u001b[0m\u001b[0mget_loc\u001b[0m\u001b[1;33m(\u001b[0m\u001b[0mkey\u001b[0m\u001b[1;33m)\u001b[0m\u001b[1;33m\u001b[0m\u001b[1;33m\u001b[0m\u001b[0m\n\u001b[0m\u001b[0;32m   3025\u001b[0m             \u001b[1;32mif\u001b[0m \u001b[0mis_integer\u001b[0m\u001b[1;33m(\u001b[0m\u001b[0mindexer\u001b[0m\u001b[1;33m)\u001b[0m\u001b[1;33m:\u001b[0m\u001b[1;33m\u001b[0m\u001b[1;33m\u001b[0m\u001b[0m\n\u001b[0;32m   3026\u001b[0m                 \u001b[0mindexer\u001b[0m \u001b[1;33m=\u001b[0m \u001b[1;33m[\u001b[0m\u001b[0mindexer\u001b[0m\u001b[1;33m]\u001b[0m\u001b[1;33m\u001b[0m\u001b[1;33m\u001b[0m\u001b[0m\n",
      "\u001b[1;32m~\\AppData\\Local\\Continuum\\miniconda3\\lib\\site-packages\\pandas\\core\\indexes\\base.py\u001b[0m in \u001b[0;36mget_loc\u001b[1;34m(self, key, method, tolerance)\u001b[0m\n\u001b[0;32m   3080\u001b[0m                 \u001b[1;32mreturn\u001b[0m \u001b[0mself\u001b[0m\u001b[1;33m.\u001b[0m\u001b[0m_engine\u001b[0m\u001b[1;33m.\u001b[0m\u001b[0mget_loc\u001b[0m\u001b[1;33m(\u001b[0m\u001b[0mcasted_key\u001b[0m\u001b[1;33m)\u001b[0m\u001b[1;33m\u001b[0m\u001b[1;33m\u001b[0m\u001b[0m\n\u001b[0;32m   3081\u001b[0m             \u001b[1;32mexcept\u001b[0m \u001b[0mKeyError\u001b[0m \u001b[1;32mas\u001b[0m \u001b[0merr\u001b[0m\u001b[1;33m:\u001b[0m\u001b[1;33m\u001b[0m\u001b[1;33m\u001b[0m\u001b[0m\n\u001b[1;32m-> 3082\u001b[1;33m                 \u001b[1;32mraise\u001b[0m \u001b[0mKeyError\u001b[0m\u001b[1;33m(\u001b[0m\u001b[0mkey\u001b[0m\u001b[1;33m)\u001b[0m \u001b[1;32mfrom\u001b[0m \u001b[0merr\u001b[0m\u001b[1;33m\u001b[0m\u001b[1;33m\u001b[0m\u001b[0m\n\u001b[0m\u001b[0;32m   3083\u001b[0m \u001b[1;33m\u001b[0m\u001b[0m\n\u001b[0;32m   3084\u001b[0m         \u001b[1;32mif\u001b[0m \u001b[0mtolerance\u001b[0m \u001b[1;32mis\u001b[0m \u001b[1;32mnot\u001b[0m \u001b[1;32mNone\u001b[0m\u001b[1;33m:\u001b[0m\u001b[1;33m\u001b[0m\u001b[1;33m\u001b[0m\u001b[0m\n",
      "\u001b[1;31mKeyError\u001b[0m: 'Prozess'"
     ]
    }
   ],
   "source": [
    "df[df['Prozess'].endsWith('hydrogen, from electrolysis - EU-25')]"
   ]
  },
  {
   "cell_type": "code",
   "execution_count": 2,
   "metadata": {},
   "outputs": [
    {
     "output_type": "stream",
     "name": "stdout",
     "text": [
      "Collecting xlwt\n",
      "  Downloading xlwt-1.3.0-py2.py3-none-any.whl (99 kB)\n",
      "Installing collected packages: xlwt\n",
      "Successfully installed xlwt-1.3.0\n"
     ]
    }
   ],
   "source": [
    "!pip install xlwt"
   ]
  },
  {
   "cell_type": "code",
   "execution_count": 33,
   "metadata": {
    "tags": []
   },
   "outputs": [
    {
     "output_type": "display_data",
     "data": {
      "text/plain": "SelectFilesButton(description='Select Files', icon='square-o', style=ButtonStyle(button_color='orange'))",
      "application/vnd.jupyter.widget-view+json": {
       "version_major": 2,
       "version_minor": 0,
       "model_id": "53525d6b3da64ce8a8b9ee3b31419656"
      }
     },
     "metadata": {}
    }
   ],
   "source": [
    "import pandas as pd\n",
    "import json\n",
    "from ipywidgets import Button\n",
    "from tkinter import Tk, filedialog\n",
    "from IPython.display import clear_output, display\n",
    "\n",
    "\n",
    "res_path = 'C:/Users/oliver.hurtig/Documents/Software/openLCA/UBA-results/'\n",
    "import traitlets\n",
    "from ipywidgets import widgets\n",
    "from IPython.display import display\n",
    "from tkinter import Tk, filedialog\n",
    "\n",
    "class SelectFilesButton(widgets.Button):\n",
    "    \"\"\"A file widget that leverages tkinter.filedialog.\"\"\"\n",
    "\n",
    "    def __init__(self):\n",
    "        super(SelectFilesButton, self).__init__()\n",
    "        # Add the selected_files trait\n",
    "        self.add_traits(files=traitlets.traitlets.List())\n",
    "        # Create the button.\n",
    "        self.description = \"Select Files\"\n",
    "        self.icon = \"square-o\"\n",
    "        self.style.button_color = \"orange\"\n",
    "        # Set on click behavior.\n",
    "        self.on_click(self.select_files)\n",
    "\n",
    "    @staticmethod\n",
    "    def select_files(b):\n",
    "        \"\"\"Generate instance of tkinter.filedialog.\n",
    "\n",
    "        Parameters\n",
    "        ----------\n",
    "        b : obj:\n",
    "            An instance of ipywidgets.widgets.Button \n",
    "        \"\"\"\n",
    "        # Create Tk root\n",
    "        root = Tk()\n",
    "        # Hide the main window\n",
    "        root.withdraw()\n",
    "        # Raise the root to the top of all windows.\n",
    "        root.call('wm', 'attributes', '.', '-topmost', True)\n",
    "        # List of selected fileswill be set to b.value\n",
    "        b.files = filedialog.askopenfilename(multiple=True, initialdir=res_path)\n",
    "\n",
    "        b.description = \"Files Selected\"\n",
    "        b.icon = \"check-square-o\"\n",
    "        b.style.button_color = \"lightgreen\"\n",
    "\n",
    "my_button = SelectFilesButton()\n",
    "my_button\n"
   ]
  },
  {
   "cell_type": "code",
   "execution_count": 31,
   "metadata": {},
   "outputs": [
    {
     "output_type": "stream",
     "name": "stdout",
     "text": [
      "C:/Users/oliver.hurtig/Documents/Software/openLCA/UBA-results/2021-06-09 10.40.json\n['C:/Users/oliver.hurtig/Documents/Software/openLCA/UBA-results/2021-06-09 10.40.json']\n2021-06-09 10.40\n"
     ]
    }
   ],
   "source": [
    "def writeExcel(fileName):\n",
    "    with open(res_path + fileName + '.json') as f:\n",
    "        data = json.load(f)\n",
    "    system_sup = []\n",
    "    co2_sup = []\n",
    "    elec_sup = []\n",
    "    impact_sup = []\n",
    "    from xlwt import Workbook\n",
    "    \n",
    "    # Workbook is created\n",
    "    wb = Workbook()\n",
    "    writer = pd.ExcelWriter(res_path + fileName + '-systemwise.xlsx')\n",
    "    sheet_count = 1\n",
    "    for system in data:\n",
    "        system_sup.append(system)\n",
    "        for co2 in data[system]:\n",
    "            if co2 not in co2_sup: \n",
    "                co2_sup.append(co2)\n",
    "            for elec in data[system][co2]:\n",
    "                if elec not in elec_sup:\n",
    "                    elec_sup.append(elec)                  \n",
    "                sheet_count += 1\n",
    "                df = pd.DataFrame(data[system][co2][elec]['categoryContrib']).transpose().sort_index()\n",
    "                df.to_excel(writer, sheet_name = '' + str(sheet_count) + system[0:3] + co2 + elec, index_label = system + '/' + co2 + '/' + elec)\n",
    "    writer.save()\n",
    "print(path)\n",
    "print(my_button.files)\n",
    "for path in my_button.files:\n",
    "    fName = os.path.basename(path).split('.json')[0]\n",
    "    print(fName)\n",
    "    writeExcel(fName)"
   ]
  },
  {
   "cell_type": "code",
   "execution_count": 42,
   "metadata": {},
   "outputs": [
    {
     "output_type": "display_data",
     "data": {
      "text/plain": "    synthesis gas (2:1), mixing of CO and H2 from PEM           Syngas, Steam Methane Reforming          \nDAC  {'DE2017': {'processContrib': {'//synthesis ga...  {'DE2017': {'processContrib': {'//Syngas, Stea...\nAZ   {'DE2017': {'processContrib': {'//synthesis ga...  {'DE2017': {'processContrib': {'//Syngas, Stea...",
      "text/html": "<div>\n<style scoped>\n    .dataframe tbody tr th:only-of-type {\n        vertical-align: middle;\n    }\n\n    .dataframe tbody tr th {\n        vertical-align: top;\n    }\n\n    .dataframe thead th {\n        text-align: right;\n    }\n</style>\n<table border=\"1\" class=\"dataframe\">\n  <thead>\n    <tr style=\"text-align: center;\">\n      <th></th>\n      <th>synthesis gas (2:1), mixing of CO and H2 from PEM</th>\n      <th>Syngas, Steam Methane Reforming</th>\n    </tr>\n  </thead>\n  <tbody>\n    <tr>\n      <th>DAC</th>\n      <td>{'DE2017': {'processContrib': {'//synthesis ga...</td>\n      <td>{'DE2017': {'processContrib': {'//Syngas, Stea...</td>\n    </tr>\n    <tr>\n      <th>AZ</th>\n      <td>{'DE2017': {'processContrib': {'//synthesis ga...</td>\n      <td>{'DE2017': {'processContrib': {'//Syngas, Stea...</td>\n    </tr>\n  </tbody>\n</table>\n</div>"
     },
     "metadata": {}
    },
    {
     "output_type": "display_data",
     "data": {
      "text/plain": "interactive(children=(Dropdown(description='system_sel', options=('synthesis gas (2:1), mixing of CO and H2 fr…",
      "application/vnd.jupyter.widget-view+json": {
       "version_major": 2,
       "version_minor": 0,
       "model_id": "ffadf0fee58c4cafa996aed53b779e20"
      }
     },
     "metadata": {}
    },
    {
     "output_type": "execute_result",
     "data": {
      "text/plain": [
       "<function __main__.select_co2(system_sel, co2_sel, elec_sel, impact_sel)>"
      ]
     },
     "metadata": {},
     "execution_count": 42
    }
   ],
   "source": [
    "from ipywidgets import interact\n",
    "\n",
    "\n",
    "def select_co2(system_sel, co2_sel, elec_sel, impact_sel):\n",
    "    print(data[system_sel][co2_sel][elec_sel]['categoryContrib'][impact_sel])\n",
    "\n",
    "interact(select_co2, system_sel = system_sup, co2_sel = co2_sup, elec_sel = elec_sup, impact_sel = impact_sup)"
   ]
  },
  {
   "cell_type": "code",
   "execution_count": null,
   "metadata": {},
   "outputs": [],
   "source": [
    "dfn = pd.DataFrame.from_dict(data)\n",
    "display(dfn)\n"
   ]
  },
  {
   "cell_type": "code",
   "execution_count": null,
   "metadata": {},
   "outputs": [],
   "source": [
    "            for impact in data[system][co2][elec]['categoryContrib']:\n",
    "                if impact not in impact_sup:\n",
    "                    impact_sup.append(impact)\n",
    "                sheet1.write(impact_count, 0, impact)\n",
    "                impact_count += 1\n",
    "                cat_count = 1\n",
    "                for cat in data[system][co2][elec]['categoryContrib'][impact]:\n",
    "                    if impact_count == 1:\n",
    "                        sheet1.write(0, cat_count, cat)\n",
    "                    sheet1.write(impact_count, cat_count, data[system][co2][elec]['categoryContrib'][impact][cat])\n",
    "                    cat_count += 1"
   ]
  },
  {
   "cell_type": "code",
   "execution_count": 176,
   "metadata": {},
   "outputs": [
    {
     "output_type": "stream",
     "name": "stdout",
     "text": [
      "Collecting jupyter-dash\n",
      "  Downloading jupyter_dash-0.4.0-py3-none-any.whl (20 kB)\n",
      "Requirement already satisfied: ipython in c:\\users\\oliver.hurtig\\appdata\\local\\continuum\\miniconda3\\lib\\site-packages (from jupyter-dash) (7.23.1)\n",
      "Requirement already satisfied: retrying in c:\\users\\oliver.hurtig\\appdata\\local\\continuum\\miniconda3\\lib\\site-packages (from jupyter-dash) (1.3.3)\n",
      "Collecting ansi2html\n",
      "  Downloading ansi2html-1.6.0-py3-none-any.whl (14 kB)\n",
      "Requirement already satisfied: requests in c:\\users\\oliver.hurtig\\appdata\\local\\continuum\\miniconda3\\lib\\site-packages (from jupyter-dash) (2.25.1)\n",
      "Requirement already satisfied: flask in c:\\users\\oliver.hurtig\\appdata\\local\\continuum\\miniconda3\\lib\\site-packages (from jupyter-dash) (1.1.2)\n",
      "Requirement already satisfied: ipykernel in c:\\users\\oliver.hurtig\\appdata\\local\\continuum\\miniconda3\\lib\\site-packages (from jupyter-dash) (5.3.4)\n",
      "Collecting dash\n",
      "  Downloading dash-1.20.0.tar.gz (77 kB)\n",
      "Collecting flask-compress"
     ]
    }
   ],
   "source": [
    "!pip install jupyter-dash"
   ]
  },
  {
   "cell_type": "code",
   "execution_count": 129,
   "metadata": {},
   "outputs": [
    {
     "output_type": "execute_result",
     "data": {
      "text/plain": [
       "[3.9418,\n",
       " 0.0004,\n",
       " 0.0,\n",
       " 2.1475,\n",
       " 0.0004,\n",
       " 0.4281,\n",
       " 0.6312,\n",
       " 3.2069,\n",
       " 0.0004,\n",
       " 4.3827,\n",
       " 7.5901,\n",
       " 0.0002,\n",
       " 0.4401]"
      ]
     },
     "metadata": {},
     "execution_count": 129
    }
   ],
   "source": [
    "import plotly.graph_objects as go\n",
    "trimmed = df2.query('System == \"synthesis gas (2:1), mixing of CO and H2 from PEM\" and CO2 == \"DAC\" and Strom == \"DE2017\" and Wirkungskategorie == \"RMI abiotic\"')\n",
    "parents = []\n",
    "labels = []\n",
    "values = []\n",
    "for i in trimmed.index.get_level_values(3):\n",
    "    \n",
    "    splitted = i.split('//')\n",
    "    if len(splitted) < 5:\n",
    "        labels.append(splitted[-1])\n",
    "        parents.append(splitted[-2])\n",
    "        values.append(trimmed.loc[(slice(None), slice(None), slice(None), i)].values[0][0])\n",
    "\n",
    "values"
   ]
  },
  {
   "cell_type": "code",
   "execution_count": 130,
   "metadata": {},
   "outputs": [
    {
     "output_type": "display_data",
     "data": {
      "application/vnd.plotly.v1+json": {
       "config": {
        "plotlyServerURL": "https://plot.ly"
       },
       "data": [
        {
         "branchvalues": "total",
         "labels": [
          "electricity, for CCU",
          "chemical factory construction, organics | chemical factory, organics | APOS, S",
          "heat, at >300° C",
          "hydrogen, from electrolysis",
          "market for water, deionised | water, deionised | APOS, S",
          "Carbon dioxide, for CCU",
          "electricity, for CCU",
          "carbon monoxide, rWGS from CO2 and H2",
          "rWGS plant",
          "hydrogen, from electrolysis",
          "synthesis gas (2:1), mixing of CO and H2",
          "market for water, decarbonised | water, decarbonised | APOS, S",
          "Electrolyser, PEM"
         ],
         "parents": [
          "hydrogen, from electrolysis",
          "rWGS plant",
          "carbon monoxide, rWGS from CO2 and H2",
          "carbon monoxide, rWGS from CO2 and H2",
          "hydrogen, from electrolysis",
          "carbon monoxide, rWGS from CO2 and H2",
          "carbon monoxide, rWGS from CO2 and H2",
          "synthesis gas (2:1), mixing of CO and H2",
          "synthesis gas (2:1), mixing of CO and H2",
          "synthesis gas (2:1), mixing of CO and H2",
          "",
          "hydrogen, from electrolysis",
          "hydrogen, from electrolysis"
         ],
         "type": "sunburst",
         "values": [
          3.9418,
          0.0004,
          0,
          2.1475,
          0.0004,
          0.4281,
          0.6312,
          3.2069,
          0.0004,
          4.3827,
          7.5901,
          0.0002,
          0.4401
         ]
        }
       ],
       "layout": {
        "template": {
         "data": {
          "bar": [
           {
            "error_x": {
             "color": "#2a3f5f"
            },
            "error_y": {
             "color": "#2a3f5f"
            },
            "marker": {
             "line": {
              "color": "#E5ECF6",
              "width": 0.5
             }
            },
            "type": "bar"
           }
          ],
          "barpolar": [
           {
            "marker": {
             "line": {
              "color": "#E5ECF6",
              "width": 0.5
             }
            },
            "type": "barpolar"
           }
          ],
          "carpet": [
           {
            "aaxis": {
             "endlinecolor": "#2a3f5f",
             "gridcolor": "white",
             "linecolor": "white",
             "minorgridcolor": "white",
             "startlinecolor": "#2a3f5f"
            },
            "baxis": {
             "endlinecolor": "#2a3f5f",
             "gridcolor": "white",
             "linecolor": "white",
             "minorgridcolor": "white",
             "startlinecolor": "#2a3f5f"
            },
            "type": "carpet"
           }
          ],
          "choropleth": [
           {
            "colorbar": {
             "outlinewidth": 0,
             "ticks": ""
            },
            "type": "choropleth"
           }
          ],
          "contour": [
           {
            "colorbar": {
             "outlinewidth": 0,
             "ticks": ""
            },
            "colorscale": [
             [
              0,
              "#0d0887"
             ],
             [
              0.1111111111111111,
              "#46039f"
             ],
             [
              0.2222222222222222,
              "#7201a8"
             ],
             [
              0.3333333333333333,
              "#9c179e"
             ],
             [
              0.4444444444444444,
              "#bd3786"
             ],
             [
              0.5555555555555556,
              "#d8576b"
             ],
             [
              0.6666666666666666,
              "#ed7953"
             ],
             [
              0.7777777777777778,
              "#fb9f3a"
             ],
             [
              0.8888888888888888,
              "#fdca26"
             ],
             [
              1,
              "#f0f921"
             ]
            ],
            "type": "contour"
           }
          ],
          "contourcarpet": [
           {
            "colorbar": {
             "outlinewidth": 0,
             "ticks": ""
            },
            "type": "contourcarpet"
           }
          ],
          "heatmap": [
           {
            "colorbar": {
             "outlinewidth": 0,
             "ticks": ""
            },
            "colorscale": [
             [
              0,
              "#0d0887"
             ],
             [
              0.1111111111111111,
              "#46039f"
             ],
             [
              0.2222222222222222,
              "#7201a8"
             ],
             [
              0.3333333333333333,
              "#9c179e"
             ],
             [
              0.4444444444444444,
              "#bd3786"
             ],
             [
              0.5555555555555556,
              "#d8576b"
             ],
             [
              0.6666666666666666,
              "#ed7953"
             ],
             [
              0.7777777777777778,
              "#fb9f3a"
             ],
             [
              0.8888888888888888,
              "#fdca26"
             ],
             [
              1,
              "#f0f921"
             ]
            ],
            "type": "heatmap"
           }
          ],
          "heatmapgl": [
           {
            "colorbar": {
             "outlinewidth": 0,
             "ticks": ""
            },
            "colorscale": [
             [
              0,
              "#0d0887"
             ],
             [
              0.1111111111111111,
              "#46039f"
             ],
             [
              0.2222222222222222,
              "#7201a8"
             ],
             [
              0.3333333333333333,
              "#9c179e"
             ],
             [
              0.4444444444444444,
              "#bd3786"
             ],
             [
              0.5555555555555556,
              "#d8576b"
             ],
             [
              0.6666666666666666,
              "#ed7953"
             ],
             [
              0.7777777777777778,
              "#fb9f3a"
             ],
             [
              0.8888888888888888,
              "#fdca26"
             ],
             [
              1,
              "#f0f921"
             ]
            ],
            "type": "heatmapgl"
           }
          ],
          "histogram": [
           {
            "marker": {
             "colorbar": {
              "outlinewidth": 0,
              "ticks": ""
             }
            },
            "type": "histogram"
           }
          ],
          "histogram2d": [
           {
            "colorbar": {
             "outlinewidth": 0,
             "ticks": ""
            },
            "colorscale": [
             [
              0,
              "#0d0887"
             ],
             [
              0.1111111111111111,
              "#46039f"
             ],
             [
              0.2222222222222222,
              "#7201a8"
             ],
             [
              0.3333333333333333,
              "#9c179e"
             ],
             [
              0.4444444444444444,
              "#bd3786"
             ],
             [
              0.5555555555555556,
              "#d8576b"
             ],
             [
              0.6666666666666666,
              "#ed7953"
             ],
             [
              0.7777777777777778,
              "#fb9f3a"
             ],
             [
              0.8888888888888888,
              "#fdca26"
             ],
             [
              1,
              "#f0f921"
             ]
            ],
            "type": "histogram2d"
           }
          ],
          "histogram2dcontour": [
           {
            "colorbar": {
             "outlinewidth": 0,
             "ticks": ""
            },
            "colorscale": [
             [
              0,
              "#0d0887"
             ],
             [
              0.1111111111111111,
              "#46039f"
             ],
             [
              0.2222222222222222,
              "#7201a8"
             ],
             [
              0.3333333333333333,
              "#9c179e"
             ],
             [
              0.4444444444444444,
              "#bd3786"
             ],
             [
              0.5555555555555556,
              "#d8576b"
             ],
             [
              0.6666666666666666,
              "#ed7953"
             ],
             [
              0.7777777777777778,
              "#fb9f3a"
             ],
             [
              0.8888888888888888,
              "#fdca26"
             ],
             [
              1,
              "#f0f921"
             ]
            ],
            "type": "histogram2dcontour"
           }
          ],
          "mesh3d": [
           {
            "colorbar": {
             "outlinewidth": 0,
             "ticks": ""
            },
            "type": "mesh3d"
           }
          ],
          "parcoords": [
           {
            "line": {
             "colorbar": {
              "outlinewidth": 0,
              "ticks": ""
             }
            },
            "type": "parcoords"
           }
          ],
          "pie": [
           {
            "automargin": true,
            "type": "pie"
           }
          ],
          "scatter": [
           {
            "marker": {
             "colorbar": {
              "outlinewidth": 0,
              "ticks": ""
             }
            },
            "type": "scatter"
           }
          ],
          "scatter3d": [
           {
            "line": {
             "colorbar": {
              "outlinewidth": 0,
              "ticks": ""
             }
            },
            "marker": {
             "colorbar": {
              "outlinewidth": 0,
              "ticks": ""
             }
            },
            "type": "scatter3d"
           }
          ],
          "scattercarpet": [
           {
            "marker": {
             "colorbar": {
              "outlinewidth": 0,
              "ticks": ""
             }
            },
            "type": "scattercarpet"
           }
          ],
          "scattergeo": [
           {
            "marker": {
             "colorbar": {
              "outlinewidth": 0,
              "ticks": ""
             }
            },
            "type": "scattergeo"
           }
          ],
          "scattergl": [
           {
            "marker": {
             "colorbar": {
              "outlinewidth": 0,
              "ticks": ""
             }
            },
            "type": "scattergl"
           }
          ],
          "scattermapbox": [
           {
            "marker": {
             "colorbar": {
              "outlinewidth": 0,
              "ticks": ""
             }
            },
            "type": "scattermapbox"
           }
          ],
          "scatterpolar": [
           {
            "marker": {
             "colorbar": {
              "outlinewidth": 0,
              "ticks": ""
             }
            },
            "type": "scatterpolar"
           }
          ],
          "scatterpolargl": [
           {
            "marker": {
             "colorbar": {
              "outlinewidth": 0,
              "ticks": ""
             }
            },
            "type": "scatterpolargl"
           }
          ],
          "scatterternary": [
           {
            "marker": {
             "colorbar": {
              "outlinewidth": 0,
              "ticks": ""
             }
            },
            "type": "scatterternary"
           }
          ],
          "surface": [
           {
            "colorbar": {
             "outlinewidth": 0,
             "ticks": ""
            },
            "colorscale": [
             [
              0,
              "#0d0887"
             ],
             [
              0.1111111111111111,
              "#46039f"
             ],
             [
              0.2222222222222222,
              "#7201a8"
             ],
             [
              0.3333333333333333,
              "#9c179e"
             ],
             [
              0.4444444444444444,
              "#bd3786"
             ],
             [
              0.5555555555555556,
              "#d8576b"
             ],
             [
              0.6666666666666666,
              "#ed7953"
             ],
             [
              0.7777777777777778,
              "#fb9f3a"
             ],
             [
              0.8888888888888888,
              "#fdca26"
             ],
             [
              1,
              "#f0f921"
             ]
            ],
            "type": "surface"
           }
          ],
          "table": [
           {
            "cells": {
             "fill": {
              "color": "#EBF0F8"
             },
             "line": {
              "color": "white"
             }
            },
            "header": {
             "fill": {
              "color": "#C8D4E3"
             },
             "line": {
              "color": "white"
             }
            },
            "type": "table"
           }
          ]
         },
         "layout": {
          "annotationdefaults": {
           "arrowcolor": "#2a3f5f",
           "arrowhead": 0,
           "arrowwidth": 1
          },
          "autotypenumbers": "strict",
          "coloraxis": {
           "colorbar": {
            "outlinewidth": 0,
            "ticks": ""
           }
          },
          "colorscale": {
           "diverging": [
            [
             0,
             "#8e0152"
            ],
            [
             0.1,
             "#c51b7d"
            ],
            [
             0.2,
             "#de77ae"
            ],
            [
             0.3,
             "#f1b6da"
            ],
            [
             0.4,
             "#fde0ef"
            ],
            [
             0.5,
             "#f7f7f7"
            ],
            [
             0.6,
             "#e6f5d0"
            ],
            [
             0.7,
             "#b8e186"
            ],
            [
             0.8,
             "#7fbc41"
            ],
            [
             0.9,
             "#4d9221"
            ],
            [
             1,
             "#276419"
            ]
           ],
           "sequential": [
            [
             0,
             "#0d0887"
            ],
            [
             0.1111111111111111,
             "#46039f"
            ],
            [
             0.2222222222222222,
             "#7201a8"
            ],
            [
             0.3333333333333333,
             "#9c179e"
            ],
            [
             0.4444444444444444,
             "#bd3786"
            ],
            [
             0.5555555555555556,
             "#d8576b"
            ],
            [
             0.6666666666666666,
             "#ed7953"
            ],
            [
             0.7777777777777778,
             "#fb9f3a"
            ],
            [
             0.8888888888888888,
             "#fdca26"
            ],
            [
             1,
             "#f0f921"
            ]
           ],
           "sequentialminus": [
            [
             0,
             "#0d0887"
            ],
            [
             0.1111111111111111,
             "#46039f"
            ],
            [
             0.2222222222222222,
             "#7201a8"
            ],
            [
             0.3333333333333333,
             "#9c179e"
            ],
            [
             0.4444444444444444,
             "#bd3786"
            ],
            [
             0.5555555555555556,
             "#d8576b"
            ],
            [
             0.6666666666666666,
             "#ed7953"
            ],
            [
             0.7777777777777778,
             "#fb9f3a"
            ],
            [
             0.8888888888888888,
             "#fdca26"
            ],
            [
             1,
             "#f0f921"
            ]
           ]
          },
          "colorway": [
           "#636efa",
           "#EF553B",
           "#00cc96",
           "#ab63fa",
           "#FFA15A",
           "#19d3f3",
           "#FF6692",
           "#B6E880",
           "#FF97FF",
           "#FECB52"
          ],
          "font": {
           "color": "#2a3f5f"
          },
          "geo": {
           "bgcolor": "white",
           "lakecolor": "white",
           "landcolor": "#E5ECF6",
           "showlakes": true,
           "showland": true,
           "subunitcolor": "white"
          },
          "hoverlabel": {
           "align": "left"
          },
          "hovermode": "closest",
          "mapbox": {
           "style": "light"
          },
          "paper_bgcolor": "white",
          "plot_bgcolor": "#E5ECF6",
          "polar": {
           "angularaxis": {
            "gridcolor": "white",
            "linecolor": "white",
            "ticks": ""
           },
           "bgcolor": "#E5ECF6",
           "radialaxis": {
            "gridcolor": "white",
            "linecolor": "white",
            "ticks": ""
           }
          },
          "scene": {
           "xaxis": {
            "backgroundcolor": "#E5ECF6",
            "gridcolor": "white",
            "gridwidth": 2,
            "linecolor": "white",
            "showbackground": true,
            "ticks": "",
            "zerolinecolor": "white"
           },
           "yaxis": {
            "backgroundcolor": "#E5ECF6",
            "gridcolor": "white",
            "gridwidth": 2,
            "linecolor": "white",
            "showbackground": true,
            "ticks": "",
            "zerolinecolor": "white"
           },
           "zaxis": {
            "backgroundcolor": "#E5ECF6",
            "gridcolor": "white",
            "gridwidth": 2,
            "linecolor": "white",
            "showbackground": true,
            "ticks": "",
            "zerolinecolor": "white"
           }
          },
          "shapedefaults": {
           "line": {
            "color": "#2a3f5f"
           }
          },
          "ternary": {
           "aaxis": {
            "gridcolor": "white",
            "linecolor": "white",
            "ticks": ""
           },
           "baxis": {
            "gridcolor": "white",
            "linecolor": "white",
            "ticks": ""
           },
           "bgcolor": "#E5ECF6",
           "caxis": {
            "gridcolor": "white",
            "linecolor": "white",
            "ticks": ""
           }
          },
          "title": {
           "x": 0.05
          },
          "xaxis": {
           "automargin": true,
           "gridcolor": "white",
           "linecolor": "white",
           "ticks": "",
           "title": {
            "standoff": 15
           },
           "zerolinecolor": "white",
           "zerolinewidth": 2
          },
          "yaxis": {
           "automargin": true,
           "gridcolor": "white",
           "linecolor": "white",
           "ticks": "",
           "title": {
            "standoff": 15
           },
           "zerolinecolor": "white",
           "zerolinewidth": 2
          }
         }
        }
       }
      }
     },
     "metadata": {}
    }
   ],
   "source": [
    "go.Figure(go.Sunburst(\n",
    "    labels=labels, parents=parents, values=values, branchvalues='total'\n",
    "))"
   ]
  },
  {
   "cell_type": "code",
   "execution_count": 159,
   "metadata": {
    "tags": []
   },
   "outputs": [
    {
     "output_type": "stream",
     "name": "stdout",
     "text": [
      "Dash app running on http://127.0.0.1:8050/\n",
      "ipykernel_launcher:18: FutureWarning:\n",
      "\n",
      "inplace is deprecated and will be removed in a future version.\n",
      "\n"
     ]
    }
   ],
   "source": [
    "# Import libraries\n",
    "from jupyter_dash import JupyterDash\n",
    "import dash_html_components as html\n",
    "import dash_core_components as dcc\n",
    "from dash.dependencies import Input, Output\n",
    "import pandas as pd\n",
    "import plotly.express as px\n",
    "import plotly.graph_objects as go\n",
    "prod_systems = {\n",
    "    'Syngas, Steam Methane Reforming': 'SMR',\n",
    "    'synthesis gas (2:1), mixing of CO and H2 from PEM': 'PEM',\n",
    "    'synthesis gas (2:1), mixing of CO and H2 from PYR': 'PYR'\n",
    "}\n",
    "def map_level(df, dct, level=0):\n",
    "    index = df.index\n",
    "    index.set_levels([[dct.get(item, item) for item in names] if i==level else names\n",
    "                      for i, names in enumerate(index.levels)], inplace=True)\n",
    "from zlib import crc32\n",
    "\n",
    "def bytes_to_float(b):\n",
    "    return float(crc32(b) & 0xffffffff) / 2**32\n",
    "def str_to_float(s, encoding=\"utf-8\"):\n",
    "    return bytes_to_float(s.encode(encoding))\n",
    "# Create the Dash app\n",
    "app = JupyterDash()\n",
    "\n",
    "# Set up the app layout\n",
    "app.layout = html.Div(children=[\n",
    "    html.H1(children='Prozessbeitrag Dashboard'),\n",
    "    dcc.Dropdown(id='cat-dropdown',\n",
    "                 options=[{'label': i, 'value': i}\n",
    "                          for i in df.index.levels[3]],\n",
    "                 value='IPCC GWP 100a'),\n",
    "    dcc.Graph(id='contrib-graph'),\n",
    "    dcc.Dropdown(id='sys-dropdown',\n",
    "                 options=[{'label': i, 'value': i}\n",
    "                          for i in df.index.levels[0]],\n",
    "                 value=df.index.levels[0][0]),\n",
    "    dcc.Dropdown(id='co2-dropdown',\n",
    "                 options=[{'label': i, 'value': i}\n",
    "                          for i in df.index.levels[1]],\n",
    "                 value=df.index.levels[1][0]),\n",
    "    dcc.Dropdown(id='strom-dropdown',\n",
    "                 options=[{'label': i, 'value': i}\n",
    "                          for i in df.index.levels[2]],\n",
    "                 value=df.index.levels[2][0]),\n",
    "    dcc.Graph(id='process-graph', figure={\"layout\": {\"title\": \"My Dash Graph\", \"height\": 700},},)\n",
    "])\n",
    "\n",
    ",\n",
    "# Set up the callback function\n",
    "@app.callback(\n",
    "    Output(component_id='contrib-graph', component_property='figure'),\n",
    "    Input(component_id='cat-dropdown', component_property='value')\n",
    ")\n",
    "def update_graph(selected_cat):\n",
    "    for cat, new_df in df.groupby(level=3):\n",
    "        if cat == selected_cat:\n",
    "            filtered_df = new_df\n",
    "    map_level(filtered_df, prod_systems, level=0)\n",
    "    ind = filtered_df.reset_index(level=3, drop=True).index.map('/'.join)\n",
    "    filtered_df.index = ind\n",
    "    filtered_df.index.name = 'Szenario'\n",
    "    filtered_df.columns.name = 'Prozessschritt'\n",
    "    fig = px.bar(filtered_df, orientation='h', color_discrete_sequence=px.colors.qualitative.Safe)\n",
    "    fig.update_xaxes(title_text=selected_cat + ' in ' + units[selected_cat] + ' / kg Produkt')\n",
    "    fig.update_layout(legend=dict(orientation='h', x=-0.2, y=-0.3))\n",
    "    return fig\n",
    "\n",
    "@app.callback(\n",
    "    Output(component_id='process-graph', component_property='figure'),\n",
    "    [Input(component_id='cat-dropdown', component_property='value'), Input(component_id='sys-dropdown', component_property='value'), Input(component_id='co2-dropdown', component_property='value'), Input(component_id='strom-dropdown', component_property='value')]\n",
    ")\n",
    "def update_graph2(selected_cat, selected_sys, selected_co2, selected_strom):\n",
    "    trimmed = df2.query('System == \"'+ selected_sys +'\" and CO2 == \"'+selected_co2+'\" and Strom == \"'+selected_strom+'\" and Wirkungskategorie == \"' + selected_cat + '\"')\n",
    "    ids = []\n",
    "    parents = []\n",
    "    labels = []\n",
    "    values = []\n",
    "    for i in trimmed.index.get_level_values(3):        \n",
    "        splitted = i.split('//')\n",
    "        ids.append(i)\n",
    "        labels.append(splitted[-1])\n",
    "        parents.append(i.replace('//' + splitted[-1], ''))\n",
    "        values.append(trimmed.loc[(slice(None), slice(None), slice(None), i)].values[0][0])\n",
    "    colors = list(map(str_to_float, labels))\n",
    "    fig = go.Figure(go.Sunburst(ids=ids, labels=labels, parents=parents, values=values, branchvalues='total', marker=dict(colors=colors, colorscale='RdBu')))    \n",
    "    return fig\n",
    "\n",
    "\n",
    "# Run local server\n",
    "if __name__ == '__main__':\n",
    "    app.run_server(mode='external')"
   ]
  },
  {
   "cell_type": "code",
   "execution_count": 191,
   "metadata": {},
   "outputs": [
    {
     "output_type": "error",
     "ename": "SystemExit",
     "evalue": "1",
     "traceback": [
      "\u001b[1;31m---------------------------------------------------------------------------\u001b[0m",
      "\u001b[1;31mSystemExit\u001b[0m                                Traceback (most recent call last)",
      "\u001b[1;32m<ipython-input-190-f130093269ca>\u001b[0m in \u001b[0;36m<module>\u001b[1;34m\u001b[0m\n\u001b[0;32m     46\u001b[0m \u001b[1;31m# Run local server\u001b[0m\u001b[1;33m\u001b[0m\u001b[1;33m\u001b[0m\u001b[1;33m\u001b[0m\u001b[0m\n\u001b[0;32m     47\u001b[0m \u001b[1;32mif\u001b[0m \u001b[0m__name__\u001b[0m \u001b[1;33m==\u001b[0m \u001b[1;34m'__main__'\u001b[0m\u001b[1;33m:\u001b[0m\u001b[1;33m\u001b[0m\u001b[1;33m\u001b[0m\u001b[0m\n\u001b[1;32m---> 48\u001b[1;33m     \u001b[0mapp\u001b[0m\u001b[1;33m.\u001b[0m\u001b[0mrun_server\u001b[0m\u001b[1;33m(\u001b[0m\u001b[0mdebug\u001b[0m\u001b[1;33m=\u001b[0m\u001b[1;32mTrue\u001b[0m\u001b[1;33m)\u001b[0m\u001b[1;33m\u001b[0m\u001b[1;33m\u001b[0m\u001b[0m\n\u001b[0m",
      "\u001b[1;32m~\\AppData\\Local\\Continuum\\miniconda3\\lib\\site-packages\\dash\\dash.py\u001b[0m in \u001b[0;36mrun_server\u001b[1;34m(self, host, port, proxy, debug, dev_tools_ui, dev_tools_props_check, dev_tools_serve_dev_bundles, dev_tools_hot_reload, dev_tools_hot_reload_interval, dev_tools_hot_reload_watch_interval, dev_tools_hot_reload_max_retry, dev_tools_silence_routes_logging, dev_tools_prune_errors, **flask_run_options)\u001b[0m\n\u001b[0;32m   1716\u001b[0m             \u001b[0mself\u001b[0m\u001b[1;33m.\u001b[0m\u001b[0mlogger\u001b[0m\u001b[1;33m.\u001b[0m\u001b[0minfo\u001b[0m\u001b[1;33m(\u001b[0m\u001b[1;34m\"Dash is running on %s://%s%s%s\\n\"\u001b[0m\u001b[1;33m,\u001b[0m \u001b[1;33m*\u001b[0m\u001b[0mdisplay_url\u001b[0m\u001b[1;33m)\u001b[0m\u001b[1;33m\u001b[0m\u001b[1;33m\u001b[0m\u001b[0m\n\u001b[0;32m   1717\u001b[0m \u001b[1;33m\u001b[0m\u001b[0m\n\u001b[1;32m-> 1718\u001b[1;33m         \u001b[0mself\u001b[0m\u001b[1;33m.\u001b[0m\u001b[0mserver\u001b[0m\u001b[1;33m.\u001b[0m\u001b[0mrun\u001b[0m\u001b[1;33m(\u001b[0m\u001b[0mhost\u001b[0m\u001b[1;33m=\u001b[0m\u001b[0mhost\u001b[0m\u001b[1;33m,\u001b[0m \u001b[0mport\u001b[0m\u001b[1;33m=\u001b[0m\u001b[0mport\u001b[0m\u001b[1;33m,\u001b[0m \u001b[0mdebug\u001b[0m\u001b[1;33m=\u001b[0m\u001b[0mdebug\u001b[0m\u001b[1;33m,\u001b[0m \u001b[1;33m**\u001b[0m\u001b[0mflask_run_options\u001b[0m\u001b[1;33m)\u001b[0m\u001b[1;33m\u001b[0m\u001b[1;33m\u001b[0m\u001b[0m\n\u001b[0m",
      "\u001b[1;32m~\\AppData\\Local\\Continuum\\miniconda3\\lib\\site-packages\\flask\\app.py\u001b[0m in \u001b[0;36mrun\u001b[1;34m(self, host, port, debug, load_dotenv, **options)\u001b[0m\n\u001b[0;32m    988\u001b[0m \u001b[1;33m\u001b[0m\u001b[0m\n\u001b[0;32m    989\u001b[0m         \u001b[1;32mtry\u001b[0m\u001b[1;33m:\u001b[0m\u001b[1;33m\u001b[0m\u001b[1;33m\u001b[0m\u001b[0m\n\u001b[1;32m--> 990\u001b[1;33m             \u001b[0mrun_simple\u001b[0m\u001b[1;33m(\u001b[0m\u001b[0mhost\u001b[0m\u001b[1;33m,\u001b[0m \u001b[0mport\u001b[0m\u001b[1;33m,\u001b[0m \u001b[0mself\u001b[0m\u001b[1;33m,\u001b[0m \u001b[1;33m**\u001b[0m\u001b[0moptions\u001b[0m\u001b[1;33m)\u001b[0m\u001b[1;33m\u001b[0m\u001b[1;33m\u001b[0m\u001b[0m\n\u001b[0m\u001b[0;32m    991\u001b[0m         \u001b[1;32mfinally\u001b[0m\u001b[1;33m:\u001b[0m\u001b[1;33m\u001b[0m\u001b[1;33m\u001b[0m\u001b[0m\n\u001b[0;32m    992\u001b[0m             \u001b[1;31m# reset the first request information if the development server\u001b[0m\u001b[1;33m\u001b[0m\u001b[1;33m\u001b[0m\u001b[1;33m\u001b[0m\u001b[0m\n",
      "\u001b[1;32m~\\AppData\\Local\\Continuum\\miniconda3\\lib\\site-packages\\werkzeug\\serving.py\u001b[0m in \u001b[0;36mrun_simple\u001b[1;34m(hostname, port, application, use_reloader, use_debugger, use_evalex, extra_files, reloader_interval, reloader_type, threaded, processes, request_handler, static_files, passthrough_errors, ssl_context)\u001b[0m\n\u001b[0;32m   1048\u001b[0m         \u001b[1;32mfrom\u001b[0m \u001b[1;33m.\u001b[0m\u001b[0m_reloader\u001b[0m \u001b[1;32mimport\u001b[0m \u001b[0mrun_with_reloader\u001b[0m\u001b[1;33m\u001b[0m\u001b[1;33m\u001b[0m\u001b[0m\n\u001b[0;32m   1049\u001b[0m \u001b[1;33m\u001b[0m\u001b[0m\n\u001b[1;32m-> 1050\u001b[1;33m         \u001b[0mrun_with_reloader\u001b[0m\u001b[1;33m(\u001b[0m\u001b[0minner\u001b[0m\u001b[1;33m,\u001b[0m \u001b[0mextra_files\u001b[0m\u001b[1;33m,\u001b[0m \u001b[0mreloader_interval\u001b[0m\u001b[1;33m,\u001b[0m \u001b[0mreloader_type\u001b[0m\u001b[1;33m)\u001b[0m\u001b[1;33m\u001b[0m\u001b[1;33m\u001b[0m\u001b[0m\n\u001b[0m\u001b[0;32m   1051\u001b[0m     \u001b[1;32melse\u001b[0m\u001b[1;33m:\u001b[0m\u001b[1;33m\u001b[0m\u001b[1;33m\u001b[0m\u001b[0m\n\u001b[0;32m   1052\u001b[0m         \u001b[0minner\u001b[0m\u001b[1;33m(\u001b[0m\u001b[1;33m)\u001b[0m\u001b[1;33m\u001b[0m\u001b[1;33m\u001b[0m\u001b[0m\n",
      "\u001b[1;32m~\\AppData\\Local\\Continuum\\miniconda3\\lib\\site-packages\\werkzeug\\_reloader.py\u001b[0m in \u001b[0;36mrun_with_reloader\u001b[1;34m(main_func, extra_files, interval, reloader_type)\u001b[0m\n\u001b[0;32m    337\u001b[0m             \u001b[0mreloader\u001b[0m\u001b[1;33m.\u001b[0m\u001b[0mrun\u001b[0m\u001b[1;33m(\u001b[0m\u001b[1;33m)\u001b[0m\u001b[1;33m\u001b[0m\u001b[1;33m\u001b[0m\u001b[0m\n\u001b[0;32m    338\u001b[0m         \u001b[1;32melse\u001b[0m\u001b[1;33m:\u001b[0m\u001b[1;33m\u001b[0m\u001b[1;33m\u001b[0m\u001b[0m\n\u001b[1;32m--> 339\u001b[1;33m             \u001b[0msys\u001b[0m\u001b[1;33m.\u001b[0m\u001b[0mexit\u001b[0m\u001b[1;33m(\u001b[0m\u001b[0mreloader\u001b[0m\u001b[1;33m.\u001b[0m\u001b[0mrestart_with_reloader\u001b[0m\u001b[1;33m(\u001b[0m\u001b[1;33m)\u001b[0m\u001b[1;33m)\u001b[0m\u001b[1;33m\u001b[0m\u001b[1;33m\u001b[0m\u001b[0m\n\u001b[0m\u001b[0;32m    340\u001b[0m     \u001b[1;32mexcept\u001b[0m \u001b[0mKeyboardInterrupt\u001b[0m\u001b[1;33m:\u001b[0m\u001b[1;33m\u001b[0m\u001b[1;33m\u001b[0m\u001b[0m\n\u001b[0;32m    341\u001b[0m         \u001b[1;32mpass\u001b[0m\u001b[1;33m\u001b[0m\u001b[1;33m\u001b[0m\u001b[0m\n",
      "\u001b[1;31mSystemExit\u001b[0m: 1"
     ]
    }
   ],
   "source": [
    "%tb"
   ]
  },
  {
   "cell_type": "code",
   "execution_count": null,
   "metadata": {},
   "outputs": [],
   "source": []
  }
 ]
}